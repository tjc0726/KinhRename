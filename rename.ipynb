{
 "cells": [
  {
   "cell_type": "code",
   "execution_count": 6,
   "metadata": {},
   "outputs": [],
   "source": [
    "import os\n",
    "list_data=os.listdir('./')"
   ]
  },
  {
   "cell_type": "code",
   "execution_count": null,
   "metadata": {},
   "outputs": [],
   "source": [
    "import re\n",
    "re_if_kinh = re.compile(r'\\[打包下载\\]需解压重命名album目录\\[(.*?)\\]为\\[(.*?)\\]')\n",
    "match_mp4 = re.compile(r'.*?\\.mp4')\n",
    "for name in list_data:\n",
    "    result = re_if_kinh.match(name)\n",
    "    if result:\n",
    "        filename = match_mp4.match(result.group(1)).group(0)\n",
    "        os.rename('./album/'+filename, './album/'+result.group(2))"
   ]
  },
  {
   "cell_type": "code",
   "execution_count": null,
   "metadata": {},
   "outputs": [],
   "source": []
  }
 ],
 "metadata": {
  "interpreter": {
   "hash": "c8d2fadc7f12623446a52e78dbd3f7c002abe7bd418ec73041a2869310541d4d"
  },
  "kernelspec": {
   "display_name": "Python 3.10.2 64-bit",
   "language": "python",
   "name": "python3"
  },
  "language_info": {
   "codemirror_mode": {
    "name": "ipython",
    "version": 3
   },
   "file_extension": ".py",
   "mimetype": "text/x-python",
   "name": "python",
   "nbconvert_exporter": "python",
   "pygments_lexer": "ipython3",
   "version": "3.10.2"
  },
  "orig_nbformat": 4
 },
 "nbformat": 4,
 "nbformat_minor": 2
}
