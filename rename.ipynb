{
 "cells": [
  {
   "cell_type": "code",
   "execution_count": 6,
   "metadata": {},
   "outputs": [],
   "source": [
    "import os\n",
    "list_data=os.listdir('./')"
   ]
  },
  {
   "cell_type": "code",
   "execution_count": 42,
   "metadata": {},
   "outputs": [
    {
     "ename": "FileNotFoundError",
     "evalue": "[WinError 2] 系统找不到指定的文件。: './album/4f9f580c60c7ff16f4c2e6f65205be5ef18d1083.mp4' -> 'Altair.SimSolid.2022.0.0.0.101.Win64-SSQ.rar'",
     "output_type": "error",
     "traceback": [
      "\u001b[1;31m---------------------------------------------------------------------------\u001b[0m",
      "\u001b[1;31mFileNotFoundError\u001b[0m                         Traceback (most recent call last)",
      "\u001b[1;32md:\\homework\\python\\rename.ipynb Cell 2'\u001b[0m in \u001b[0;36m<cell line: 4>\u001b[1;34m()\u001b[0m\n\u001b[0;32m      <a href='vscode-notebook-cell:/d%3A/homework/python/rename.ipynb#ch0000001?line=5'>6</a>\u001b[0m \u001b[39mif\u001b[39;00m result:\n\u001b[0;32m      <a href='vscode-notebook-cell:/d%3A/homework/python/rename.ipynb#ch0000001?line=6'>7</a>\u001b[0m     filename \u001b[39m=\u001b[39m match_mp4\u001b[39m.\u001b[39mmatch(result\u001b[39m.\u001b[39mgroup(\u001b[39m1\u001b[39m))\u001b[39m.\u001b[39mgroup(\u001b[39m0\u001b[39m)\n\u001b[1;32m----> <a href='vscode-notebook-cell:/d%3A/homework/python/rename.ipynb#ch0000001?line=7'>8</a>\u001b[0m     os\u001b[39m.\u001b[39;49mrename(\u001b[39m'\u001b[39;49m\u001b[39m./album/\u001b[39;49m\u001b[39m'\u001b[39;49m\u001b[39m+\u001b[39;49mfilename, result\u001b[39m.\u001b[39;49mgroup(\u001b[39m2\u001b[39;49m))\n",
      "\u001b[1;31mFileNotFoundError\u001b[0m: [WinError 2] 系统找不到指定的文件。: './album/4f9f580c60c7ff16f4c2e6f65205be5ef18d1083.mp4' -> 'Altair.SimSolid.2022.0.0.0.101.Win64-SSQ.rar'"
     ]
    }
   ],
   "source": [
    "import re\n",
    "re_if_kinh = re.compile(r'\\[打包下载\\]需解压重命名album目录\\[(.*?)\\]为\\[(.*?)\\]')\n",
    "match_mp4 = re.compile(r'.*?\\.mp4')\n",
    "for name in list_data:\n",
    "    result = re_if_kinh.match(name)\n",
    "    if result:\n",
    "        filename = match_mp4.match(result.group(1)).group(0)\n",
    "        os.rename('./album/'+filename, './album/'+result.group(2))"
   ]
  },
  {
   "cell_type": "code",
   "execution_count": null,
   "metadata": {},
   "outputs": [],
   "source": []
  }
 ],
 "metadata": {
  "interpreter": {
   "hash": "c8d2fadc7f12623446a52e78dbd3f7c002abe7bd418ec73041a2869310541d4d"
  },
  "kernelspec": {
   "display_name": "Python 3.10.2 64-bit",
   "language": "python",
   "name": "python3"
  },
  "language_info": {
   "codemirror_mode": {
    "name": "ipython",
    "version": 3
   },
   "file_extension": ".py",
   "mimetype": "text/x-python",
   "name": "python",
   "nbconvert_exporter": "python",
   "pygments_lexer": "ipython3",
   "version": "3.10.2"
  },
  "orig_nbformat": 4
 },
 "nbformat": 4,
 "nbformat_minor": 2
}
